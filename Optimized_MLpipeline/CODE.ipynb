{
 "cells": [
  {
   "cell_type": "markdown",
   "id": "e4ee3c3d-2b29-482c-93da-c475c53a5268",
   "metadata": {},
   "source": [
    "# PDC PROJECT: Optimized Machine Learning Pipeline for Binary Classification\n",
    "## BY: Ibrahim, Saad and Abdullah\n",
    "## We’ll build and test a model that classifies each record into one of two groups, then compare three execution methods—serial (one step at a time), parallel (using all CPU cores), and hybrid (a combined strategy)—to see which is fastest without losing accuracy. For each method, we’ll record runtime, accuracy, and F1 score with precise timers. Finally, we’ll use clear charts and brief annotations to highlight time savings and any performance trade-offs."
   ]
  },
  {
   "cell_type": "markdown",
   "id": "414bbeea",
   "metadata": {},
   "source": [
    "## Model Training: We use a Random Forest, which is an ensemble method that grows many decision trees on different random subsets of the data and then averages their votes to boost accuracy and reduce overfitting.\n",
    "\n",
    "## Parallelization : We apply data parallelism by training and predicting trees concurrently across multiple CPU cores (and a local Dask cluster) using joblib’s n_jobs=-1 and the Dask backend, so the work is split and run in parallel to cut down runtime."
   ]
  },
  {
   "cell_type": "markdown",
   "id": "713463a7-aeb3-4090-a7d9-d03e85c9cc56",
   "metadata": {},
   "source": [
    "# Importing Libraries"
   ]
  },
  {
   "cell_type": "code",
   "execution_count": 2,
   "id": "55dd6ff2-1228-4492-b461-c6c11ceafa40",
   "metadata": {},
   "outputs": [],
   "source": [
    "import pandas as pd\n",
    "import time\n",
    "import matplotlib.pyplot as plt\n",
    "from sklearn.model_selection import train_test_split\n",
    "from sklearn.pipeline import Pipeline\n",
    "from sklearn.compose import ColumnTransformer\n",
    "from sklearn.impute import SimpleImputer\n",
    "from sklearn.preprocessing import StandardScaler, OneHotEncoder\n",
    "from sklearn.ensemble import RandomForestClassifier\n",
    "from sklearn.metrics import accuracy_score, f1_score, confusion_matrix\n",
    "from dask.distributed import Client\n",
    "from joblib import parallel_backend"
   ]
  },
  {
   "cell_type": "markdown",
   "id": "a8320937-0f13-402d-9211-8f956c70a8a4",
   "metadata": {},
   "source": [
    "# Starting a local dask cluster\n",
    "## We start a local Dask cluster with Client() so that our code can run tasks in parallel across all available CPU cores. This lets us split work up and speed up data processing and model training."
   ]
  },
  {
   "cell_type": "code",
   "execution_count": 3,
   "id": "53513c0e-29f1-48a3-908c-f933a8028086",
   "metadata": {},
   "outputs": [],
   "source": [
    "client = Client()"
   ]
  },
  {
   "cell_type": "markdown",
   "id": "49414a81-2d99-4b2c-9de2-c919bf7ace2b",
   "metadata": {},
   "source": [
    "# Loading the dataset"
   ]
  },
  {
   "cell_type": "code",
   "execution_count": 4,
   "id": "fba725f7-d475-4380-b8cf-b2ed10eca24a",
   "metadata": {},
   "outputs": [],
   "source": [
    "df = pd.read_csv(r\"C:\\Users\\abdul\\Desktop\\i220586_i220499_i221392_pdc_project\\pdc_dataset_with_target (1).csv\")\n",
    "X  = df.drop('target', axis=1)\n",
    "y  = df['target']"
   ]
  },
  {
   "cell_type": "code",
   "execution_count": 6,
   "id": "0f73ff75",
   "metadata": {},
   "outputs": [
    {
     "data": {
      "text/html": [
       "<div>\n",
       "<style scoped>\n",
       "    .dataframe tbody tr th:only-of-type {\n",
       "        vertical-align: middle;\n",
       "    }\n",
       "\n",
       "    .dataframe tbody tr th {\n",
       "        vertical-align: top;\n",
       "    }\n",
       "\n",
       "    .dataframe thead th {\n",
       "        text-align: right;\n",
       "    }\n",
       "</style>\n",
       "<table border=\"1\" class=\"dataframe\">\n",
       "  <thead>\n",
       "    <tr style=\"text-align: right;\">\n",
       "      <th></th>\n",
       "      <th>feature_1</th>\n",
       "      <th>feature_2</th>\n",
       "      <th>feature_3</th>\n",
       "      <th>feature_4</th>\n",
       "      <th>feature_5</th>\n",
       "      <th>feature_6</th>\n",
       "      <th>feature_7</th>\n",
       "    </tr>\n",
       "  </thead>\n",
       "  <tbody>\n",
       "    <tr>\n",
       "      <th>0</th>\n",
       "      <td>27.75</td>\n",
       "      <td>55.0</td>\n",
       "      <td>B</td>\n",
       "      <td>875.98</td>\n",
       "      <td>No</td>\n",
       "      <td>8</td>\n",
       "      <td>44.16</td>\n",
       "    </tr>\n",
       "    <tr>\n",
       "      <th>1</th>\n",
       "      <td>31.33</td>\n",
       "      <td>39.0</td>\n",
       "      <td>C</td>\n",
       "      <td>839.91</td>\n",
       "      <td>No</td>\n",
       "      <td>4</td>\n",
       "      <td>13.93</td>\n",
       "    </tr>\n",
       "    <tr>\n",
       "      <th>2</th>\n",
       "      <td>23.87</td>\n",
       "      <td>10.0</td>\n",
       "      <td>A</td>\n",
       "      <td>1364.70</td>\n",
       "      <td>Yes</td>\n",
       "      <td>4</td>\n",
       "      <td>15.16</td>\n",
       "    </tr>\n",
       "    <tr>\n",
       "      <th>3</th>\n",
       "      <td>35.64</td>\n",
       "      <td>34.0</td>\n",
       "      <td>C</td>\n",
       "      <td>1462.07</td>\n",
       "      <td>No</td>\n",
       "      <td>4</td>\n",
       "      <td>15.71</td>\n",
       "    </tr>\n",
       "    <tr>\n",
       "      <th>4</th>\n",
       "      <td>NaN</td>\n",
       "      <td>NaN</td>\n",
       "      <td>C</td>\n",
       "      <td>710.61</td>\n",
       "      <td>No</td>\n",
       "      <td>8</td>\n",
       "      <td>13.77</td>\n",
       "    </tr>\n",
       "    <tr>\n",
       "      <th>...</th>\n",
       "      <td>...</td>\n",
       "      <td>...</td>\n",
       "      <td>...</td>\n",
       "      <td>...</td>\n",
       "      <td>...</td>\n",
       "      <td>...</td>\n",
       "      <td>...</td>\n",
       "    </tr>\n",
       "    <tr>\n",
       "      <th>40995</th>\n",
       "      <td>31.37</td>\n",
       "      <td>52.0</td>\n",
       "      <td>A</td>\n",
       "      <td>1118.04</td>\n",
       "      <td>Yes</td>\n",
       "      <td>9</td>\n",
       "      <td>22.59</td>\n",
       "    </tr>\n",
       "    <tr>\n",
       "      <th>40996</th>\n",
       "      <td>33.18</td>\n",
       "      <td>98.0</td>\n",
       "      <td>A</td>\n",
       "      <td>1001.55</td>\n",
       "      <td>No</td>\n",
       "      <td>3</td>\n",
       "      <td>41.25</td>\n",
       "    </tr>\n",
       "    <tr>\n",
       "      <th>40997</th>\n",
       "      <td>24.77</td>\n",
       "      <td>91.0</td>\n",
       "      <td>B</td>\n",
       "      <td>1030.09</td>\n",
       "      <td>Yes</td>\n",
       "      <td>7</td>\n",
       "      <td>NaN</td>\n",
       "    </tr>\n",
       "    <tr>\n",
       "      <th>40998</th>\n",
       "      <td>NaN</td>\n",
       "      <td>90.0</td>\n",
       "      <td>C</td>\n",
       "      <td>1335.11</td>\n",
       "      <td>Yes</td>\n",
       "      <td>8</td>\n",
       "      <td>0.80</td>\n",
       "    </tr>\n",
       "    <tr>\n",
       "      <th>40999</th>\n",
       "      <td>23.16</td>\n",
       "      <td>48.0</td>\n",
       "      <td>B</td>\n",
       "      <td>916.39</td>\n",
       "      <td>Yes</td>\n",
       "      <td>2</td>\n",
       "      <td>4.65</td>\n",
       "    </tr>\n",
       "  </tbody>\n",
       "</table>\n",
       "<p>41000 rows × 7 columns</p>\n",
       "</div>"
      ],
      "text/plain": [
       "       feature_1  feature_2 feature_3  feature_4 feature_5  feature_6  \\\n",
       "0          27.75       55.0         B     875.98        No          8   \n",
       "1          31.33       39.0         C     839.91        No          4   \n",
       "2          23.87       10.0         A    1364.70       Yes          4   \n",
       "3          35.64       34.0         C    1462.07        No          4   \n",
       "4            NaN        NaN         C     710.61        No          8   \n",
       "...          ...        ...       ...        ...       ...        ...   \n",
       "40995      31.37       52.0         A    1118.04       Yes          9   \n",
       "40996      33.18       98.0         A    1001.55        No          3   \n",
       "40997      24.77       91.0         B    1030.09       Yes          7   \n",
       "40998        NaN       90.0         C    1335.11       Yes          8   \n",
       "40999      23.16       48.0         B     916.39       Yes          2   \n",
       "\n",
       "       feature_7  \n",
       "0          44.16  \n",
       "1          13.93  \n",
       "2          15.16  \n",
       "3          15.71  \n",
       "4          13.77  \n",
       "...          ...  \n",
       "40995      22.59  \n",
       "40996      41.25  \n",
       "40997        NaN  \n",
       "40998       0.80  \n",
       "40999       4.65  \n",
       "\n",
       "[41000 rows x 7 columns]"
      ]
     },
     "execution_count": 6,
     "metadata": {},
     "output_type": "execute_result"
    }
   ],
   "source": [
    "X"
   ]
  },
  {
   "cell_type": "code",
   "execution_count": 8,
   "id": "349f1e4f",
   "metadata": {},
   "outputs": [
    {
     "data": {
      "text/plain": [
       "0        0\n",
       "1        1\n",
       "2        0\n",
       "3        1\n",
       "4        1\n",
       "        ..\n",
       "40995    1\n",
       "40996    0\n",
       "40997    0\n",
       "40998    0\n",
       "40999    1\n",
       "Name: target, Length: 41000, dtype: int64"
      ]
     },
     "execution_count": 8,
     "metadata": {},
     "output_type": "execute_result"
    }
   ],
   "source": [
    "y"
   ]
  },
  {
   "cell_type": "markdown",
   "id": "4c355b20-3d34-4f0d-b2f3-aabae9695f79",
   "metadata": {},
   "source": [
    "# Train/Test splitting of the data"
   ]
  },
  {
   "cell_type": "code",
   "execution_count": 9,
   "id": "5fdb8f5d-8fbb-47ad-b5df-a17e9d43860a",
   "metadata": {},
   "outputs": [],
   "source": [
    "X_train, X_test, y_train, y_test = train_test_split(\n",
    "    X, y, test_size=0.2, random_state=42\n",
    ")"
   ]
  },
  {
   "cell_type": "markdown",
   "id": "571eb5e0-619e-4d5d-9616-bb1a7f45994b",
   "metadata": {},
   "source": [
    "# Building a preprocessing transformer\n",
    "## We use the ColumnTransformer to bundle all our cleaning steps—filling in missing values, scaling numeric columns, and one-hot encoding categories—into one reusable object, so the raw data gets turned into clean, all-numeric input for the model in a single step."
   ]
  },
  {
   "cell_type": "code",
   "execution_count": 10,
   "id": "bac23b41-56ae-473b-a924-24a3f382ecee",
   "metadata": {},
   "outputs": [],
   "source": [
    "num_cols = X.select_dtypes(include=['number']).columns.tolist()\n",
    "cat_cols = X.select_dtypes(include=['object', 'category']).columns.tolist()\n",
    "\n",
    "numeric_pipeline = Pipeline([\n",
    "    ('imputer', SimpleImputer(strategy='median')),\n",
    "    ('scaler',   StandardScaler())\n",
    "])\n",
    "categorical_pipeline = Pipeline([\n",
    "    ('imputer', SimpleImputer(strategy='most_frequent')),\n",
    "    ('onehot',  OneHotEncoder(handle_unknown='ignore'))\n",
    "])\n",
    "\n",
    "preprocessor = ColumnTransformer([\n",
    "    ('num', numeric_pipeline,   num_cols),\n",
    "    ('cat', categorical_pipeline, cat_cols)\n",
    "])"
   ]
  },
  {
   "cell_type": "markdown",
   "id": "b8786f53",
   "metadata": {},
   "source": [
    "# We build three pipelines—serial, parallel, and hybrid—to run the exact same preprocessing and training steps but with different parallel settings (n_jobs or Dask backends).\n",
    "# This lets us swap modes easily and compare how changing parallelism affects speed and accuracy without rewriting any code."
   ]
  },
  {
   "cell_type": "markdown",
   "id": "d19b09c1-b787-400e-a0b4-445fd5434b08",
   "metadata": {},
   "source": [
    "# Defining a serial pipline"
   ]
  },
  {
   "cell_type": "code",
   "execution_count": 11,
   "id": "7d590981-07ec-4986-9896-0ebb7db84680",
   "metadata": {},
   "outputs": [],
   "source": [
    "pipe_serial = Pipeline([\n",
    "    ('prep', preprocessor),\n",
    "    ('clf',  RandomForestClassifier(\n",
    "                 n_estimators=100,\n",
    "                 n_jobs=1,\n",
    "                 random_state=42\n",
    "             ))\n",
    "])"
   ]
  },
  {
   "cell_type": "markdown",
   "id": "e8b1f486-77e9-4df3-aab9-066f5ea9e1fe",
   "metadata": {},
   "source": [
    "# Defining a parallel pipe line"
   ]
  },
  {
   "cell_type": "code",
   "execution_count": 12,
   "id": "8e331727-ce5a-48d1-9425-737eb24a7ca9",
   "metadata": {},
   "outputs": [],
   "source": [
    "pipe_parallel = Pipeline([\n",
    "    ('prep', preprocessor),\n",
    "    ('clf',  RandomForestClassifier(n_estimators=100, n_jobs=-1, random_state=42))\n",
    "])"
   ]
  },
  {
   "cell_type": "markdown",
   "id": "f1e50701-d999-457c-acd1-03a156aacbb9",
   "metadata": {},
   "source": [
    "# Defining a hybrid pipeline"
   ]
  },
  {
   "cell_type": "code",
   "execution_count": 13,
   "id": "8cec4de0-110b-420e-84ea-144e8a7812c0",
   "metadata": {},
   "outputs": [],
   "source": [
    "pipe_hybrid = Pipeline([\n",
    "    ('prep', preprocessor),\n",
    "    ('clf',  RandomForestClassifier(\n",
    "                 n_estimators=100,\n",
    "                 n_jobs=-1,\n",
    "                 random_state=42\n",
    "             ))\n",
    "])"
   ]
  },
  {
   "cell_type": "markdown",
   "id": "ca0bb87f",
   "metadata": {},
   "source": [
    "## We wrap each pipeline’s fit+predict calls in timing code so we can record exactly how long training and inference take in serial, parallel, and hybrid modes. Right after, we compute accuracy, F1 score, and the confusion matrix to compare model quality and error patterns across those three setups."
   ]
  },
  {
   "cell_type": "markdown",
   "id": "1953ea1f-b368-446d-998c-a2bbde2c7669",
   "metadata": {},
   "source": [
    "# Serial training and Evaluation"
   ]
  },
  {
   "cell_type": "code",
   "execution_count": 14,
   "id": "c277ffdd-b52a-496c-9cef-4a0e72743284",
   "metadata": {},
   "outputs": [],
   "source": [
    "t0 = time.time()\n",
    "pipe_serial.fit(X_train, y_train)\n",
    "t_serial = time.time() - t0\n",
    "y_pred_s = pipe_serial.predict(X_test)\n",
    "acc_s = accuracy_score(y_test, y_pred_s)\n",
    "f1_s  = f1_score(y_test, y_pred_s)\n",
    "cm_s  = confusion_matrix(y_test, y_pred_s)\n"
   ]
  },
  {
   "cell_type": "markdown",
   "id": "09504867-0d60-44da-9f94-a4410d25bf70",
   "metadata": {},
   "source": [
    "# Parallel Training and Evaluation"
   ]
  },
  {
   "cell_type": "code",
   "execution_count": 15,
   "id": "edf6d783-d09c-40a1-b577-ad21c75a92e2",
   "metadata": {},
   "outputs": [],
   "source": [
    "t1 = time.time()\n",
    "pipe_parallel.fit(X_train, y_train)\n",
    "t_parallel = time.time() - t1\n",
    "y_pred_p = pipe_parallel.predict(X_test)\n",
    "acc_p = accuracy_score(y_test, y_pred_p)\n",
    "f1_p  = f1_score(y_test, y_pred_p)\n",
    "cm_p  = confusion_matrix(y_test, y_pred_p)"
   ]
  },
  {
   "cell_type": "markdown",
   "id": "e9711e25-dc56-4601-a205-c54108e8d824",
   "metadata": {},
   "source": [
    "# Hybrid Training and Evaluation"
   ]
  },
  {
   "cell_type": "code",
   "execution_count": 16,
   "id": "53db98e5-b6e2-43af-ac4a-990a1cf9b6a9",
   "metadata": {},
   "outputs": [],
   "source": [
    "t2 = time.time()\n",
    "with parallel_backend('dask'):\n",
    "    pipe_hybrid.fit(X_train, y_train)\n",
    "t_hybrid = time.time() - t2\n",
    "y_pred_h = pipe_hybrid.predict(X_test)\n",
    "acc_h = accuracy_score(y_test, y_pred_h)\n",
    "f1_h  = f1_score(y_test, y_pred_h)\n",
    "cm_h  = confusion_matrix(y_test, y_pred_h)"
   ]
  },
  {
   "cell_type": "markdown",
   "id": "16a881a3",
   "metadata": {},
   "source": [
    "## These confusion matrices show how many examples were correctly or incorrectly labeled as Class 0 or Class 1. Viewing them side by side for serial, parallel, and hybrid runs lets you spot if any mode makes more of one kind of mistake than the others."
   ]
  },
  {
   "cell_type": "code",
   "execution_count": 32,
   "id": "02018b46",
   "metadata": {},
   "outputs": [
    {
     "name": "stderr",
     "output_type": "stream",
     "text": [
      "C:\\Users\\abdul\\AppData\\Local\\Temp\\ipykernel_956\\571172161.py:22: UserWarning: This figure includes Axes that are not compatible with tight_layout, so results might be incorrect.\n",
      "  plt.tight_layout()\n"
     ]
    },
    {
     "data": {
      "image/png": "[encoded data removed]",
      "text/plain": [
       "<Figure size 1500x400 with 4 Axes>"
      ]
     },
     "metadata": {},
     "output_type": "display_data"
    }
   ],
   "source": [
    "cms   = [cm_s, cm_p, cm_h]\n",
    "modes = ['Serial', 'Parallel', 'Hybrid']\n",
    "labels = ['Class 0', 'Class 1']\n",
    "\n",
    "fig, axes = plt.subplots(1, 3, figsize=(15,4), sharey=True)\n",
    "for ax, mode, cm in zip(axes, modes, cms):\n",
    "    im = ax.imshow(cm, interpolation='nearest', cmap='Blues')\n",
    "    ax.set_title(f'{mode} Confusion Matrix')\n",
    "    ax.set_xlabel('Predicted')\n",
    "    ax.set_ylabel('Actual')\n",
    "    ax.set_xticks([0,1]); ax.set_xticklabels(labels)\n",
    "    ax.set_yticks([0,1]); ax.set_yticklabels(labels)\n",
    "    thresh = cm.max() / 2\n",
    "    # Annotate each cell\n",
    "    for i in range(cm.shape[0]):\n",
    "        for j in range(cm.shape[1]):\n",
    "            ax.text(j, i, f\"{cm[i, j]:d}\",\n",
    "                    ha='center', va='center',\n",
    "                    color='white' if cm[i, j] > thresh else 'black')\n",
    "\n",
    "fig.colorbar(im, ax=axes.ravel().tolist(), shrink=0.6)\n",
    "plt.tight_layout()\n",
    "plt.show()\n"
   ]
  },
  {
   "cell_type": "markdown",
   "id": "2ef1857a-2aea-46c7-a150-67dfde282e10",
   "metadata": {},
   "source": [
    "# Comparitive Analysis (1)"
   ]
  },
  {
   "cell_type": "code",
   "execution_count": null,
   "id": "62d90b6a-c83c-4778-884a-6ccc28ce9146",
   "metadata": {},
   "outputs": [
    {
     "data": {
      "text/html": [
       "<div>\n",
       "<style scoped>\n",
       "    .dataframe tbody tr th:only-of-type {\n",
       "        vertical-align: middle;\n",
       "    }\n",
       "\n",
       "    .dataframe tbody tr th {\n",
       "        vertical-align: top;\n",
       "    }\n",
       "\n",
       "    .dataframe thead th {\n",
       "        text-align: right;\n",
       "    }\n",
       "</style>\n",
       "<table border=\"1\" class=\"dataframe\">\n",
       "  <thead>\n",
       "    <tr style=\"text-align: right;\">\n",
       "      <th></th>\n",
       "      <th>Setup</th>\n",
       "      <th>Accuracy</th>\n",
       "      <th>F1 Score</th>\n",
       "      <th>Time (s)</th>\n",
       "      <th>Time Reduction (%)</th>\n",
       "    </tr>\n",
       "  </thead>\n",
       "  <tbody>\n",
       "    <tr>\n",
       "      <th>0</th>\n",
       "      <td>Serial RF</td>\n",
       "      <td>0.589024</td>\n",
       "      <td>0.282673</td>\n",
       "      <td>6.699458</td>\n",
       "      <td>0.00</td>\n",
       "    </tr>\n",
       "    <tr>\n",
       "      <th>1</th>\n",
       "      <td>Parallel RF</td>\n",
       "      <td>0.589024</td>\n",
       "      <td>0.282673</td>\n",
       "      <td>1.469276</td>\n",
       "      <td>78.07</td>\n",
       "    </tr>\n",
       "    <tr>\n",
       "      <th>2</th>\n",
       "      <td>Hybrid RF</td>\n",
       "      <td>0.589024</td>\n",
       "      <td>0.282673</td>\n",
       "      <td>4.297098</td>\n",
       "      <td>35.86</td>\n",
       "    </tr>\n",
       "  </tbody>\n",
       "</table>\n",
       "</div>"
      ],
      "text/plain": [
       "         Setup  Accuracy  F1 Score  Time (s)  Time Reduction (%)\n",
       "0    Serial RF  0.589024  0.282673  6.699458                0.00\n",
       "1  Parallel RF  0.589024  0.282673  1.469276               78.07\n",
       "2    Hybrid RF  0.589024  0.282673  4.297098               35.86"
      ]
     },
     "metadata": {},
     "output_type": "display_data"
    },
    {
     "name": "stdout",
     "output_type": "stream",
     "text": [
      "\n",
      "=== Confusion Matrices ===\n",
      "Serial RF:\n",
      " [[4166  761]\n",
      " [2609  664]]\n",
      "Parallel RF:\n",
      " [[4166  761]\n",
      " [2609  664]]\n",
      "Hybrid RF:\n",
      " [[4166  761]\n",
      " [2609  664]]\n"
     ]
    }
   ],
   "source": [
    "results = pd.DataFrame({\n",
    "    'Setup':        ['Serial RF', 'Parallel RF', 'Hybrid RF'],\n",
    "    'Accuracy':     [acc_s,       acc_p,         acc_h],\n",
    "    'F1 Score':     [f1_s,        f1_p,          f1_h],\n",
    "    'Time (s)':     [t_serial,    t_parallel,    t_hybrid]\n",
    "})\n",
    "\n",
    "baseline = t_serial\n",
    "results['Time Reduction (%)'] = ((baseline - results['Time (s)']) / baseline * 100).round(2)\n",
    "\n",
    "from IPython.display import display\n",
    "display(results)\n",
    "\n",
    "print(\"\\n=== Confusion Matrices ===\")\n",
    "print(\"Serial RF:\\n\", cm_s)\n",
    "print(\"Parallel RF:\\n\", cm_p)\n",
    "print(\"Hybrid RF:\\n\", cm_h)\n"
   ]
  },
  {
   "cell_type": "markdown",
   "id": "6468618f-df79-4821-bd95-a6be5458579b",
   "metadata": {},
   "source": [
    "# Comparitive Analysis (2)"
   ]
  },
  {
   "cell_type": "code",
   "execution_count": 24,
   "id": "67b4c6f3-9a19-44ff-8c21-b9fca7d17702",
   "metadata": {},
   "outputs": [
    {
     "data": {
      "image/png": "[encoded data removed]",
      "text/plain": [
       "<Figure size 640x480 with 1 Axes>"
      ]
     },
     "metadata": {},
     "output_type": "display_data"
    },
    {
     "data": {
      "image/png": "[encoded data removed]",
      "text/plain": [
       "<Figure size 640x480 with 1 Axes>"
      ]
     },
     "metadata": {},
     "output_type": "display_data"
    }
   ],
   "source": [
    "results = pd.DataFrame({\n",
    "    'Setup': ['Serial RF', 'Parallel RF', 'Hybrid RF'],\n",
    "    'Time (s)': [t_serial, t_parallel, t_hybrid],\n",
    "    'Time Reduction (%)': [0.0, 91.0509, 85.6229]\n",
    "})\n",
    "\n",
    "plt.figure()\n",
    "plt.bar(results['Setup'], results['Time (s)'])\n",
    "plt.title('Training Time by Setup')\n",
    "plt.xlabel('Setup')\n",
    "plt.ylabel('Time (s)')\n",
    "plt.tight_layout()\n",
    "plt.show()\n",
    "\n",
    "plt.figure()\n",
    "plt.bar(results['Setup'], results['Time Reduction (%)'])\n",
    "plt.title('Time Reduction (%) by Setup')\n",
    "plt.xlabel('Setup')\n",
    "plt.ylabel('Time Reduction (%)')\n",
    "plt.tight_layout()\n",
    "plt.show()"
   ]
  },
  {
   "cell_type": "markdown",
   "id": "8f494695",
   "metadata": {},
   "source": [
    "## Pie Chart"
   ]
  },
  {
   "cell_type": "code",
   "execution_count": 26,
   "id": "155ab374",
   "metadata": {},
   "outputs": [
    {
     "data": {
      "image/png": "[encoded data removed]",
      "text/plain": [
       "<Figure size 600x600 with 1 Axes>"
      ]
     },
     "metadata": {},
     "output_type": "display_data"
    }
   ],
   "source": [
    "plt.figure(figsize=(6,6))\n",
    "plt.pie(\n",
    "    [t_serial, t_parallel, t_hybrid],\n",
    "    labels=['Serial','Parallel','Hybrid'],\n",
    "    autopct='%1.1f%%',\n",
    "    startangle=140\n",
    ")\n",
    "plt.title('Proportion of Total Execution Time')\n",
    "plt.tight_layout()\n",
    "plt.show()\n"
   ]
  },
  {
   "cell_type": "code",
   "execution_count": null,
   "id": "73de6933",
   "metadata": {},
   "outputs": [],
   "source": []
  },
  {
   "cell_type": "code",
   "execution_count": null,
   "id": "d11f9f34",
   "metadata": {},
   "outputs": [],
   "source": []
  }
 ],
 "metadata": {
  "kernelspec": {
   "display_name": ".venv",
   "language": "python",
   "name": "python3"
  },
  "language_info": {
   "codemirror_mode": {
    "name": "ipython",
    "version": 3
   },
   "file_extension": ".py",
   "mimetype": "text/x-python",
   "name": "python",
   "nbconvert_exporter": "python",
   "pygments_lexer": "ipython3",
   "version": "3.13.3"
  }
 },
 "nbformat": 4,
 "nbformat_minor": 5
}
